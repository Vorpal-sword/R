{
 "cells": [
  {
   "cell_type": "code",
   "execution_count": 28,
   "metadata": {
    "vscode": {
     "languageId": "r"
    }
   },
   "outputs": [
    {
     "data": {
      "text/plain": [
       "  Sepal.Length    Sepal.Width     Petal.Length    Petal.Width   \n",
       " Min.   :4.300   Min.   :2.000   Min.   :1.000   Min.   :0.100  \n",
       " 1st Qu.:5.100   1st Qu.:2.800   1st Qu.:1.600   1st Qu.:0.300  \n",
       " Median :5.800   Median :3.000   Median :4.350   Median :1.300  \n",
       " Mean   :5.843   Mean   :3.057   Mean   :3.758   Mean   :1.199  \n",
       " 3rd Qu.:6.400   3rd Qu.:3.300   3rd Qu.:5.100   3rd Qu.:1.800  \n",
       " Max.   :7.900   Max.   :4.400   Max.   :6.900   Max.   :2.500  \n",
       "       Species  \n",
       " setosa    :50  \n",
       " versicolor:50  \n",
       " virginica :50  \n",
       "                \n",
       "                \n",
       "                "
      ]
     },
     "metadata": {},
     "output_type": "display_data"
    }
   ],
   "source": [
    "summary(iris)"
   ]
  },
  {
   "cell_type": "markdown",
   "metadata": {},
   "source": [
    "1. Імпортування необхідних бібліотек та завантаження набору даних: Для виконання лабораторної роботи на R у Jupyter Notebook використовуємо пакет class для KNN.\n"
   ]
  },
  {
   "cell_type": "code",
   "execution_count": 27,
   "metadata": {
    "vscode": {
     "languageId": "r"
    }
   },
   "outputs": [
    {
     "name": "stderr",
     "output_type": "stream",
     "text": [
      "Warning message:\n",
      "\"package 'e1071' is in use and will not be installed\"\n",
      "Warning message:\n",
      "\"package 'caTools' is in use and will not be installed\"\n",
      "Warning message:\n",
      "\"package 'class' is in use and will not be installed\"\n"
     ]
    },
    {
     "data": {
      "text/html": [
       "<table class=\"dataframe\">\n",
       "<caption>A data.frame: 6 × 5</caption>\n",
       "<thead>\n",
       "\t<tr><th></th><th scope=col>Sepal.Length</th><th scope=col>Sepal.Width</th><th scope=col>Petal.Length</th><th scope=col>Petal.Width</th><th scope=col>Species</th></tr>\n",
       "\t<tr><th></th><th scope=col>&lt;dbl&gt;</th><th scope=col>&lt;dbl&gt;</th><th scope=col>&lt;dbl&gt;</th><th scope=col>&lt;dbl&gt;</th><th scope=col>&lt;fct&gt;</th></tr>\n",
       "</thead>\n",
       "<tbody>\n",
       "\t<tr><th scope=row>1</th><td>5.1</td><td>3.5</td><td>1.4</td><td>0.2</td><td>setosa</td></tr>\n",
       "\t<tr><th scope=row>2</th><td>4.9</td><td>3.0</td><td>1.4</td><td>0.2</td><td>setosa</td></tr>\n",
       "\t<tr><th scope=row>3</th><td>4.7</td><td>3.2</td><td>1.3</td><td>0.2</td><td>setosa</td></tr>\n",
       "\t<tr><th scope=row>4</th><td>4.6</td><td>3.1</td><td>1.5</td><td>0.2</td><td>setosa</td></tr>\n",
       "\t<tr><th scope=row>5</th><td>5.0</td><td>3.6</td><td>1.4</td><td>0.2</td><td>setosa</td></tr>\n",
       "\t<tr><th scope=row>6</th><td>5.4</td><td>3.9</td><td>1.7</td><td>0.4</td><td>setosa</td></tr>\n",
       "</tbody>\n",
       "</table>\n"
      ],
      "text/latex": [
       "A data.frame: 6 × 5\n",
       "\\begin{tabular}{r|lllll}\n",
       "  & Sepal.Length & Sepal.Width & Petal.Length & Petal.Width & Species\\\\\n",
       "  & <dbl> & <dbl> & <dbl> & <dbl> & <fct>\\\\\n",
       "\\hline\n",
       "\t1 & 5.1 & 3.5 & 1.4 & 0.2 & setosa\\\\\n",
       "\t2 & 4.9 & 3.0 & 1.4 & 0.2 & setosa\\\\\n",
       "\t3 & 4.7 & 3.2 & 1.3 & 0.2 & setosa\\\\\n",
       "\t4 & 4.6 & 3.1 & 1.5 & 0.2 & setosa\\\\\n",
       "\t5 & 5.0 & 3.6 & 1.4 & 0.2 & setosa\\\\\n",
       "\t6 & 5.4 & 3.9 & 1.7 & 0.4 & setosa\\\\\n",
       "\\end{tabular}\n"
      ],
      "text/markdown": [
       "\n",
       "A data.frame: 6 × 5\n",
       "\n",
       "| <!--/--> | Sepal.Length &lt;dbl&gt; | Sepal.Width &lt;dbl&gt; | Petal.Length &lt;dbl&gt; | Petal.Width &lt;dbl&gt; | Species &lt;fct&gt; |\n",
       "|---|---|---|---|---|---|\n",
       "| 1 | 5.1 | 3.5 | 1.4 | 0.2 | setosa |\n",
       "| 2 | 4.9 | 3.0 | 1.4 | 0.2 | setosa |\n",
       "| 3 | 4.7 | 3.2 | 1.3 | 0.2 | setosa |\n",
       "| 4 | 4.6 | 3.1 | 1.5 | 0.2 | setosa |\n",
       "| 5 | 5.0 | 3.6 | 1.4 | 0.2 | setosa |\n",
       "| 6 | 5.4 | 3.9 | 1.7 | 0.4 | setosa |\n",
       "\n"
      ],
      "text/plain": [
       "  Sepal.Length Sepal.Width Petal.Length Petal.Width Species\n",
       "1 5.1          3.5         1.4          0.2         setosa \n",
       "2 4.9          3.0         1.4          0.2         setosa \n",
       "3 4.7          3.2         1.3          0.2         setosa \n",
       "4 4.6          3.1         1.5          0.2         setosa \n",
       "5 5.0          3.6         1.4          0.2         setosa \n",
       "6 5.4          3.9         1.7          0.4         setosa "
      ]
     },
     "metadata": {},
     "output_type": "display_data"
    },
    {
     "ename": "ERROR",
     "evalue": "Error in eval(expr, envir, enclos): object 'maxsum' not found\n",
     "output_type": "error",
     "traceback": [
      "Error in eval(expr, envir, enclos): object 'maxsum' not found\nTraceback:\n",
      "1. summary(iris, digits = digits, maxsum = maxsum)",
      "2. summary.data.frame(iris, digits = digits, maxsum = maxsum)",
      "3. lapply(X = as.list(object), FUN = summary, maxsum = maxsum, digits = 12L, \n .     ...)",
      "4. FUN(X[[i]], ...)",
      "5. summary.factor(X[[i]], ...)"
     ]
    }
   ],
   "source": [
    "# Встановлення та завантаження необхідних бібліотек\n",
    "install.packages(\"e1071\")  # Якщо пакет не встановлений\n",
    "install.packages(\"caTools\")  # Для розділення на тренувальний і тестовий набір\n",
    "install.packages(\"class\")  # Для алгоритму KNN\n",
    "library(e1071)\n",
    "library(caTools)\n",
    "library(class)\n",
    "\n",
    "# Завантаження набору даних Iris\n",
    "data(iris)\n",
    "head(iris)  # Переглянути перші кілька рядків\n"
   ]
  },
  {
   "cell_type": "markdown",
   "metadata": {},
   "source": [
    "2. Розділення даних на тренувальний та тестовий набори (70%/30%):\n"
   ]
  },
  {
   "cell_type": "code",
   "execution_count": 21,
   "metadata": {
    "vscode": {
     "languageId": "r"
    }
   },
   "outputs": [],
   "source": [
    "set.seed(123)  # Фіксуємо генератор випадкових чисел для відтворюваності\n",
    "split <- sample.split(iris$Species, SplitRatio = 0.7)  # Розподіл даних\n",
    "train_set <- subset(iris, split == TRUE)  # Тренувальний набір\n",
    "test_set <- subset(iris, split == FALSE)  # Тестовий набір\n",
    "\n",
    "# Виділення ознак та міток класів\n",
    "train_X <- train_set[, -5]  # Все, крім останньої колонки\n",
    "train_Y <- train_set[, 5]   # Остання колонка (Species)\n",
    "test_X <- test_set[, -5]\n",
    "test_Y <- test_set[, 5]\n"
   ]
  },
  {
   "cell_type": "markdown",
   "metadata": {},
   "source": [
    "3. Нормалізація даних (для покращення роботи алгоритму KNN):\n"
   ]
  },
  {
   "cell_type": "code",
   "execution_count": 22,
   "metadata": {
    "vscode": {
     "languageId": "r"
    }
   },
   "outputs": [],
   "source": [
    "# Нормалізація даних\n",
    "normalize <- function(x) {\n",
    "  return ((x - min(x)) / (max(x) - min(x)))\n",
    "}\n",
    "\n",
    "train_X <- as.data.frame(lapply(train_X, normalize))\n",
    "test_X <- as.data.frame(lapply(test_X, normalize))"
   ]
  },
  {
   "cell_type": "markdown",
   "metadata": {},
   "source": [
    "4. Побудова та оцінка моделі KNN:\n"
   ]
  },
  {
   "cell_type": "code",
   "execution_count": 26,
   "metadata": {
    "vscode": {
     "languageId": "r"
    }
   },
   "outputs": [
    {
     "name": "stdout",
     "output_type": "stream",
     "text": [
      "            Actual\n",
      "Predicted    setosa versicolor virginica\n",
      "  setosa         15          0         0\n",
      "  versicolor      0         14         1\n",
      "  virginica       0          1        14\n",
      "[1] \"Accuracy: 95.56 %\"\n"
     ]
    }
   ],
   "source": [
    "# Вибір кількості сусідів (k)\n",
    "k <- 15\n",
    "predictions <- knn(train = train_X, test = test_X, cl = train_Y, k = k)\n",
    "\n",
    "# Створення матриці сплутаності (Confusion Matrix)\n",
    "conf_matrix <- table(Predicted = predictions, Actual = test_Y)\n",
    "print(conf_matrix)\n",
    "\n",
    "# Обчислення точності\n",
    "accuracy <- sum(diag(conf_matrix)) / sum(conf_matrix)\n",
    "print(paste(\"Accuracy:\", round(accuracy * 100, 2), \"%\"))\n"
   ]
  },
  {
   "cell_type": "markdown",
   "metadata": {},
   "source": [
    "5. Дослідження точності з різними значеннями K:\n"
   ]
  },
  {
   "cell_type": "code",
   "execution_count": null,
   "metadata": {
    "vscode": {
     "languageId": "r"
    }
   },
   "outputs": [
    {
     "data": {
      "text/html": [
       "<strong>png:</strong> 2"
      ],
      "text/latex": [
       "\\textbf{png:} 2"
      ],
      "text/markdown": [
       "**png:** 2"
      ],
      "text/plain": [
       "png \n",
       "  2 "
      ]
     },
     "metadata": {},
     "output_type": "display_data"
    }
   ],
   "source": [
    "accuracy_values <- c()\n",
    "\n",
    "for (k in 1:30) {\n",
    "  predictions <- knn(train = train_X, test = test_X, cl = train_Y, k = k)\n",
    "  conf_matrix <- table(Predicted = predictions, Actual = test_Y)\n",
    "  accuracy <- sum(diag(conf_matrix)) / sum(conf_matrix)\n",
    "  accuracy_values <- c(accuracy_values, accuracy)\n",
    "}\n",
    "\n",
    "# Побудова графіка точності залежно від K\n",
    "# Зберігаємо графік у файл PNG з більшими розмірами\n",
    "png(\"accuracy_plot.png\", width = 1200, height = 800)\n",
    "plot(1:30, accuracy_values, type = \"b\", col = \"blue\", xlab = \"K\", ylab = \"Accuracy\",\n",
    "     main = \"Точність класифікації в залежності від K\", cex.main = 1.5, cex.lab = 1.2, cex.axis = 1.1)\n",
    "dev.off()  # Закриваємо файл\n",
    "\n"
   ]
  }
 ],
 "metadata": {
  "kernelspec": {
   "display_name": "R",
   "language": "R",
   "name": "ir"
  },
  "language_info": {
   "codemirror_mode": "r",
   "file_extension": ".r",
   "mimetype": "text/x-r-source",
   "name": "R",
   "pygments_lexer": "r",
   "version": "4.4.1"
  }
 },
 "nbformat": 4,
 "nbformat_minor": 2
}
