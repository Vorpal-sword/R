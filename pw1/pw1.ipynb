{
 "cells": [
  {
   "cell_type": "markdown",
   "metadata": {},
   "source": [
    "1. Ініціалізація середовища\n"
   ]
  },
  {
   "cell_type": "markdown",
   "metadata": {},
   "source": []
  },
  {
   "cell_type": "code",
   "execution_count": 64,
   "metadata": {
    "vscode": {
     "languageId": "r"
    }
   },
   "outputs": [
    {
     "name": "stderr",
     "output_type": "stream",
     "text": [
      "Warning message:\n",
      "\"package 'party' is in use and will not be installed\"\n",
      "Warning message:\n",
      "\"package 'rpart' is in use and will not be installed\"\n",
      "Warning message:\n",
      "\"package 'rpart.plot' is in use and will not be installed\"\n",
      "Warning message:\n",
      "\"package 'dplyr' is in use and will not be installed\"\n",
      "Warning message:\n",
      "\"package 'partykit' is in use and will not be installed\"\n",
      "Warning message:\n",
      "\"package 'ggparty' is in use and will not be installed\"\n"
     ]
    }
   ],
   "source": [
    "# Встановлення необхідних пакетів (виконується один раз)\n",
    "install.packages(\"party\")\n",
    "install.packages(\"rpart\")\n",
    "install.packages(\"rpart.plot\")\n",
    "install.packages(\"dplyr\")\n",
    "install.packages(\"partykit\")\n",
    "install.packages(\"ggparty\")\n",
    "\n",
    "# Підключення бібліотек\n",
    "library(party)\n",
    "library(rpart)\n",
    "library(rpart.plot)\n",
    "library(dplyr)\n",
    "library(partykit)\n",
    "library(ggparty)"
   ]
  },
  {
   "cell_type": "markdown",
   "metadata": {},
   "source": [
    "2. Завантаження та перегляд набору даних\n"
   ]
  },
  {
   "cell_type": "code",
   "execution_count": 65,
   "metadata": {
    "vscode": {
     "languageId": "r"
    }
   },
   "outputs": [
    {
     "data": {
      "text/html": [
       "<table class=\"dataframe\">\n",
       "<caption>A data.frame: 6 × 4</caption>\n",
       "<thead>\n",
       "\t<tr><th></th><th scope=col>nativeSpeaker</th><th scope=col>age</th><th scope=col>shoeSize</th><th scope=col>score</th></tr>\n",
       "\t<tr><th></th><th scope=col>&lt;fct&gt;</th><th scope=col>&lt;int&gt;</th><th scope=col>&lt;dbl&gt;</th><th scope=col>&lt;dbl&gt;</th></tr>\n",
       "</thead>\n",
       "<tbody>\n",
       "\t<tr><th scope=row>1</th><td>yes</td><td> 5</td><td>24.83189</td><td>32.29385</td></tr>\n",
       "\t<tr><th scope=row>2</th><td>yes</td><td> 6</td><td>25.95238</td><td>36.63105</td></tr>\n",
       "\t<tr><th scope=row>3</th><td>no </td><td>11</td><td>30.42170</td><td>49.60593</td></tr>\n",
       "\t<tr><th scope=row>4</th><td>yes</td><td> 7</td><td>28.66450</td><td>40.28456</td></tr>\n",
       "\t<tr><th scope=row>5</th><td>yes</td><td>11</td><td>31.88207</td><td>55.46085</td></tr>\n",
       "\t<tr><th scope=row>6</th><td>yes</td><td>10</td><td>30.07843</td><td>52.83124</td></tr>\n",
       "</tbody>\n",
       "</table>\n"
      ],
      "text/latex": [
       "A data.frame: 6 × 4\n",
       "\\begin{tabular}{r|llll}\n",
       "  & nativeSpeaker & age & shoeSize & score\\\\\n",
       "  & <fct> & <int> & <dbl> & <dbl>\\\\\n",
       "\\hline\n",
       "\t1 & yes &  5 & 24.83189 & 32.29385\\\\\n",
       "\t2 & yes &  6 & 25.95238 & 36.63105\\\\\n",
       "\t3 & no  & 11 & 30.42170 & 49.60593\\\\\n",
       "\t4 & yes &  7 & 28.66450 & 40.28456\\\\\n",
       "\t5 & yes & 11 & 31.88207 & 55.46085\\\\\n",
       "\t6 & yes & 10 & 30.07843 & 52.83124\\\\\n",
       "\\end{tabular}\n"
      ],
      "text/markdown": [
       "\n",
       "A data.frame: 6 × 4\n",
       "\n",
       "| <!--/--> | nativeSpeaker &lt;fct&gt; | age &lt;int&gt; | shoeSize &lt;dbl&gt; | score &lt;dbl&gt; |\n",
       "|---|---|---|---|---|\n",
       "| 1 | yes |  5 | 24.83189 | 32.29385 |\n",
       "| 2 | yes |  6 | 25.95238 | 36.63105 |\n",
       "| 3 | no  | 11 | 30.42170 | 49.60593 |\n",
       "| 4 | yes |  7 | 28.66450 | 40.28456 |\n",
       "| 5 | yes | 11 | 31.88207 | 55.46085 |\n",
       "| 6 | yes | 10 | 30.07843 | 52.83124 |\n",
       "\n"
      ],
      "text/plain": [
       "  nativeSpeaker age shoeSize score   \n",
       "1 yes            5  24.83189 32.29385\n",
       "2 yes            6  25.95238 36.63105\n",
       "3 no            11  30.42170 49.60593\n",
       "4 yes            7  28.66450 40.28456\n",
       "5 yes           11  31.88207 55.46085\n",
       "6 yes           10  30.07843 52.83124"
      ]
     },
     "metadata": {},
     "output_type": "display_data"
    },
    {
     "name": "stdout",
     "output_type": "stream",
     "text": [
      "'data.frame':\t200 obs. of  4 variables:\n",
      " $ nativeSpeaker: Factor w/ 2 levels \"no\",\"yes\": 2 2 1 2 2 2 1 2 2 1 ...\n",
      " $ age          : int  5 6 11 7 11 10 7 11 5 7 ...\n",
      " $ shoeSize     : num  24.8 26 30.4 28.7 31.9 ...\n",
      " $ score        : num  32.3 36.6 49.6 40.3 55.5 ...\n"
     ]
    },
    {
     "data": {
      "text/plain": [
       " nativeSpeaker      age            shoeSize         score      \n",
       " no :100       Min.   : 5.000   Min.   :23.17   Min.   :25.26  \n",
       " yes:100       1st Qu.: 6.000   1st Qu.:26.23   1st Qu.:33.94  \n",
       "               Median : 8.000   Median :27.85   Median :40.33  \n",
       "               Mean   : 7.925   Mean   :27.87   Mean   :40.66  \n",
       "               3rd Qu.: 9.250   3rd Qu.:29.49   3rd Qu.:47.57  \n",
       "               Max.   :11.000   Max.   :32.33   Max.   :56.71  "
      ]
     },
     "metadata": {},
     "output_type": "display_data"
    }
   ],
   "source": [
    "# Завантаження вбудованого набору даних readingSkills\n",
    "data(\"readingSkills\", package = \"party\")\n",
    "\n",
    "# Виведення перших рядків даних\n",
    "head(readingSkills)\n",
    "\n",
    "# Перевірка структури набору даних\n",
    "str(readingSkills)\n",
    "\n",
    "# Опис змінних у наборі даних\n",
    "summary(readingSkills)\n"
   ]
  },
  {
   "cell_type": "markdown",
   "metadata": {},
   "source": [
    "3. Вивчення довідки по функції ctree()\n"
   ]
  },
  {
   "cell_type": "code",
   "execution_count": 75,
   "metadata": {
    "vscode": {
     "languageId": "r"
    }
   },
   "outputs": [
    {
     "name": "stdout",
     "output_type": "stream",
     "text": [
      "ctree                  package:party                   R Documentation\n",
      "\n",
      "_\bC_\bo_\bn_\bd_\bi_\bt_\bi_\bo_\bn_\ba_\bl _\bI_\bn_\bf_\be_\br_\be_\bn_\bc_\be _\bT_\br_\be_\be_\bs\n",
      "\n",
      "_\bD_\be_\bs_\bc_\br_\bi_\bp_\bt_\bi_\bo_\bn:\n",
      "\n",
      "     Recursive partitioning for continuous, censored, ordered, nominal\n",
      "     and multivariate response variables in a conditional inference\n",
      "     framework.\n",
      "\n",
      "_\bU_\bs_\ba_\bg_\be:\n",
      "\n",
      "     ctree(formula, data, subset = NULL, weights = NULL, \n",
      "           controls = ctree_control(), xtrafo = ptrafo, ytrafo = ptrafo, \n",
      "           scores = NULL)\n",
      "     \n",
      "_\bA_\br_\bg_\bu_\bm_\be_\bn_\bt_\bs:\n",
      "\n",
      " formula: a symbolic description of the model to be fit. Note that\n",
      "          symbols like ':' and '-' will not work and the tree will make\n",
      "          use of all variables listed on the rhs of 'formula'.\n",
      "\n",
      "    data: a data frame containing the variables in the model.\n",
      "\n",
      "  subset: an optional vector specifying a subset of observations to be\n",
      "          used in the fitting process.\n",
      "\n",
      " weights: an optional vector of weights to be used in the fitting\n",
      "          process. Only non-negative integer valued weights are\n",
      "          allowed.\n",
      "\n",
      "controls: an object of class 'TreeControl', which can be obtained using\n",
      "          'ctree_control'.\n",
      "\n",
      "  xtrafo: a function to be applied to all input variables.  By default,\n",
      "          the 'ptrafo' function is applied.\n",
      "\n",
      "  ytrafo: a function to be applied to all response variables.  By\n",
      "          default, the 'ptrafo' function is applied.\n",
      "\n",
      "  scores: an optional named list of scores to be attached to ordered\n",
      "          factors.\n",
      "\n",
      "_\bD_\be_\bt_\ba_\bi_\bl_\bs:\n",
      "\n",
      "     Conditional inference trees estimate a regression relationship by\n",
      "     binary recursive partitioning in a conditional inference\n",
      "     framework. Roughly, the algorithm works as follows: 1) Test the\n",
      "     global null hypothesis of independence between any of the input\n",
      "     variables and the response (which may be multivariate as well).\n",
      "     Stop if this hypothesis cannot be rejected. Otherwise select the\n",
      "     input variable with strongest association to the resonse. This\n",
      "     association is measured by a p-value corresponding to a test for\n",
      "     the partial null hypothesis of a single input variable and the\n",
      "     response.  2) Implement a binary split in the selected input\n",
      "     variable.  3) Recursively repeate steps 1) and 2).\n",
      "\n",
      "     The implementation utilizes a unified framework for conditional\n",
      "     inference, or permutation tests, developed by Strasser and Weber\n",
      "     (1999). The stop criterion in step 1) is either based on\n",
      "     multiplicity adjusted p-values ('testtype == \"Bonferroni\"' or\n",
      "     'testtype == \"MonteCarlo\"' in 'ctree_control'), on the univariate\n",
      "     p-values ('testtype == \"Univariate\"'), or on values of the test\n",
      "     statistic ('testtype == \"Teststatistic\"'). In both cases, the\n",
      "     criterion is maximized, i.e., 1 - p-value is used. A split is\n",
      "     implemented when the criterion exceeds the value given by\n",
      "     'mincriterion' as specified in 'ctree_control'. For example, when\n",
      "     'mincriterion = 0.95', the p-value must be smaller than $0.05$ in\n",
      "     order to split this node. This statistical approach ensures that\n",
      "     the right sized tree is grown and no form of pruning or\n",
      "     cross-validation or whatsoever is needed. The selection of the\n",
      "     input variable to split in is based on the univariate p-values\n",
      "     avoiding a variable selection bias towards input variables with\n",
      "     many possible cutpoints.\n",
      "\n",
      "     Multiplicity-adjusted Monte-Carlo p-values are computed following\n",
      "     a \"min-p\" approach. The univariate p-values based on the limiting\n",
      "     distribution (chi-square or normal) are computed for each of the\n",
      "     random permutations of the data. This means that one should use a\n",
      "     quadratic test statistic when factors are in play (because the\n",
      "     evaluation of the corresponding multivariate normal distribution\n",
      "     is time-consuming).\n",
      "\n",
      "     By default, the scores for each ordinal factor 'x' are\n",
      "     '1:length(x)', this may be changed using 'scores = list(x =\n",
      "     c(1,5,6))', for example.\n",
      "\n",
      "     Predictions can be computed using 'predict' or 'treeresponse'.\n",
      "     The first function accepts arguments 'type = c(\"response\", \"node\",\n",
      "     \"prob\")' where 'type = \"response\"' returns predicted means,\n",
      "     predicted classes or median predicted survival times, 'type =\n",
      "     \"node\"' returns terminal node IDs (identical to 'where') and 'type\n",
      "     = \"prob\"' gives more information about the conditional\n",
      "     distribution of the response, i.e., class probabilities or\n",
      "     predicted Kaplan-Meier curves and is identical to 'treeresponse'.\n",
      "     For observations with zero weights, predictions are computed from\n",
      "     the fitted tree when 'newdata = NULL'.\n",
      "\n",
      "     For a general description of the methodology see Hothorn, Hornik\n",
      "     and Zeileis (2006) and Hothorn, Hornik, van de Wiel and Zeileis\n",
      "     (2006).  Introductions for novices can be found in Strobl et al.\n",
      "     (2009) and at <https://github.com/christophM/overview-ctrees>.\n",
      "\n",
      "_\bV_\ba_\bl_\bu_\be:\n",
      "\n",
      "     An object of class 'BinaryTree-class'.\n",
      "\n",
      "_\bR_\be_\bf_\be_\br_\be_\bn_\bc_\be_\bs:\n",
      "\n",
      "     Helmut Strasser and Christian Weber (1999). On the asymptotic\n",
      "     theory of permutation statistics. _Mathematical Methods of\n",
      "     Statistics_, *8*, 220-250.\n",
      "\n",
      "     Torsten Hothorn, Kurt Hornik, Mark A. van de Wiel and Achim\n",
      "     Zeileis (2006).  A Lego System for Conditional Inference. _The\n",
      "     American Statistician_, *60*(3), 257-263.\n",
      "\n",
      "     Torsten Hothorn, Kurt Hornik and Achim Zeileis (2006). Unbiased\n",
      "     Recursive Partitioning: A Conditional Inference Framework.\n",
      "     _Journal of Computational and Graphical Statistics_, *15*(3),\n",
      "     651-674.  Preprint available from\n",
      "     <https://www.zeileis.org/papers/Hothorn+Hornik+Zeileis-2006.pdf>\n",
      "\n",
      "     Carolin Strobl, James Malley and Gerhard Tutz (2009).  An\n",
      "     Introduction to Recursive Partitioning: Rationale, Application,\n",
      "     and Characteristics of Classification and Regression Trees,\n",
      "     Bagging, and Random forests.  _Psychological Methods_, *14*(4),\n",
      "     323-348.\n",
      "\n",
      "_\bE_\bx_\ba_\bm_\bp_\bl_\be_\bs:\n",
      "\n",
      "         set.seed(290875)\n",
      "     \n",
      "         ### regression\n",
      "         airq <- subset(airquality, !is.na(Ozone))\n",
      "         airct <- ctree(Ozone ~ ., data = airq, \n",
      "                        controls = ctree_control(maxsurrogate = 3))\n",
      "         airct\n",
      "         plot(airct)\n",
      "         mean((airq$Ozone - predict(airct))^2)\n",
      "         ### extract terminal node ID, two ways\n",
      "         all.equal(predict(airct, type = \"node\"), where(airct))\n",
      "     \n",
      "         ### classification\n",
      "         irisct <- ctree(Species ~ .,data = iris)\n",
      "         irisct\n",
      "         plot(irisct)\n",
      "         table(predict(irisct), iris$Species)\n",
      "     \n",
      "         ### estimated class probabilities, a list\n",
      "         tr <- treeresponse(irisct, newdata = iris[1:10,])\n",
      "     \n",
      "         ### ordinal regression\n",
      "         data(\"mammoexp\", package = \"TH.data\")\n",
      "         mammoct <- ctree(ME ~ ., data = mammoexp) \n",
      "         plot(mammoct)\n",
      "     \n",
      "         ### estimated class probabilities\n",
      "         treeresponse(mammoct, newdata = mammoexp[1:10,])\n",
      "     \n",
      "         ### survival analysis\n",
      "         if (require(\"TH.data\") && require(\"survival\")) {\n",
      "             data(\"GBSG2\", package = \"TH.data\")\n",
      "             GBSG2ct <- ctree(Surv(time, cens) ~ .,data = GBSG2)\n",
      "             plot(GBSG2ct)\n",
      "             treeresponse(GBSG2ct, newdata = GBSG2[1:2,])        \n",
      "         }\n",
      "     \n",
      "         ### if you are interested in the internals:\n",
      "         ### generate doxygen documentation\n",
      "         ## Not run:\n",
      "     \n",
      "     \n",
      "             ### download src package into temp dir\n",
      "             tmpdir <- tempdir()\n",
      "             tgz <- download.packages(\"party\", destdir = tmpdir)[2]\n",
      "             ### extract\n",
      "             untar(tgz, exdir = tmpdir)\n",
      "             wd <- setwd(file.path(tmpdir, \"party\"))\n",
      "             ### run doxygen (assuming it is there)\n",
      "             system(\"doxygen inst/doxygen.cfg\")\n",
      "             setwd(wd)\n",
      "             ### have fun\n",
      "             browseURL(file.path(tmpdir, \"party\", \"inst\", \n",
      "                                 \"documentation\", \"html\", \"index.html\")) \n",
      "     ## End(Not run)\n",
      "     "
     ]
    }
   ],
   "source": [
    "?ctree  # Вивести документацію про функцію ctree()\n"
   ]
  },
  {
   "cell_type": "markdown",
   "metadata": {},
   "source": [
    "4. Побудова базового дерева рішень\n"
   ]
  },
  {
   "cell_type": "code",
   "execution_count": 67,
   "metadata": {
    "vscode": {
     "languageId": "r"
    }
   },
   "outputs": [
    {
     "data": {
      "image/png": "[encoded data removed]",
      "text/plain": [
       "plot without title"
      ]
     },
     "metadata": {
      "image/png": {
       "height": 420,
       "width": 420
      }
     },
     "output_type": "display_data"
    }
   ],
   "source": [
    "# Побудова дерева рішень\n",
    "model_1 <- ctree(nativeSpeaker ~ age + shoeSize + score, data = readingSkills)\n",
    "\n",
    "# Візуалізація дерева\n",
    "plot(model_1)\n"
   ]
  },
  {
   "cell_type": "markdown",
   "metadata": {},
   "source": [
    "5. Налаштування гіперпараметрів\n"
   ]
  },
  {
   "cell_type": "code",
   "execution_count": 68,
   "metadata": {
    "vscode": {
     "languageId": "r"
    }
   },
   "outputs": [
    {
     "data": {
      "image/png": "[encoded data removed]",
      "text/plain": [
       "plot without title"
      ]
     },
     "metadata": {
      "image/png": {
       "height": 420,
       "width": 420
      }
     },
     "output_type": "display_data"
    }
   ],
   "source": [
    "# Налаштування параметрів побудови дерева\n",
    "control_params <- ctree_control(minsplit = 5, minbucket = 3, maxdepth = 3)\n",
    "\n",
    "# Побудова дерева рішень\n",
    "model_2 <- ctree(nativeSpeaker ~ age + shoeSize + score, \n",
    "                 data = readingSkills, \n",
    "                 control = control_params)  # <-- Виправлено!\n",
    "\n",
    "# Візуалізація дерева\n",
    "plot(model_2)"
   ]
  },
  {
   "cell_type": "markdown",
   "metadata": {},
   "source": [
    "6. Аналіз отриманих результатів\n"
   ]
  },
  {
   "cell_type": "code",
   "execution_count": 69,
   "metadata": {
    "vscode": {
     "languageId": "r"
    }
   },
   "outputs": [
    {
     "name": "stdout",
     "output_type": "stream",
     "text": [
      "\n",
      "Model formula:\n",
      "nativeSpeaker ~ age + shoeSize + score\n",
      "\n",
      "Fitted party:\n",
      "[1] root\n",
      "|   [2] score <= 43.34602\n",
      "|   |   [3] shoeSize <= 26.92283\n",
      "|   |   |   [4] score <= 31.08626: no (n = 24, err = 0.0%)\n",
      "|   |   |   [5] score > 31.08626: yes (n = 46, err = 28.3%)\n",
      "|   |   [6] shoeSize > 26.92283: no (n = 51, err = 11.8%)\n",
      "|   [7] score > 43.34602\n",
      "|   |   [8] age <= 9: yes (n = 29, err = 0.0%)\n",
      "|   |   [9] age > 9\n",
      "|   |   |   [10] score <= 50.2831: no (n = 16, err = 0.0%)\n",
      "|   |   |   [11] score > 50.2831: yes (n = 34, err = 5.9%)\n",
      "\n",
      "Number of inner nodes:    5\n",
      "Number of terminal nodes: 6\n"
     ]
    }
   ],
   "source": [
    "# Перевірка важливості предикторів\n",
    "print(model_2)\n",
    "\n",
    "# Інтерпретація факторів, які найбільше впливають на визначення nativeSpeaker\n"
   ]
  },
  {
   "cell_type": "markdown",
   "metadata": {},
   "source": [
    "7. Домашнє завдання\n"
   ]
  },
  {
   "cell_type": "code",
   "execution_count": 70,
   "metadata": {
    "vscode": {
     "languageId": "r"
    }
   },
   "outputs": [
    {
     "data": {
      "image/png": "[encoded data removed]",
      "text/plain": [
       "plot without title"
      ]
     },
     "metadata": {
      "image/png": {
       "height": 420,
       "width": 420
      }
     },
     "output_type": "display_data"
    }
   ],
   "source": [
    "# Використання іншого набору даних (наприклад, iris)\n",
    "data(\"iris\")\n",
    "\n",
    "# Побудова дерева рішень для набору iris\n",
    "model_iris <- ctree(Species ~ Sepal.Length + Sepal.Width + Petal.Length + Petal.Width, data = iris)\n",
    "\n",
    "# Візуалізація\n",
    "plot(model_iris)\n"
   ]
  },
  {
   "cell_type": "markdown",
   "metadata": {},
   "source": [
    "8. Перевірка даних Iris\n"
   ]
  },
  {
   "cell_type": "code",
   "execution_count": 71,
   "metadata": {
    "vscode": {
     "languageId": "r"
    }
   },
   "outputs": [
    {
     "data": {
      "text/html": [
       "<table class=\"dataframe\">\n",
       "<caption>A data.frame: 6 × 5</caption>\n",
       "<thead>\n",
       "\t<tr><th></th><th scope=col>Sepal.Length</th><th scope=col>Sepal.Width</th><th scope=col>Petal.Length</th><th scope=col>Petal.Width</th><th scope=col>Species</th></tr>\n",
       "\t<tr><th></th><th scope=col>&lt;dbl&gt;</th><th scope=col>&lt;dbl&gt;</th><th scope=col>&lt;dbl&gt;</th><th scope=col>&lt;dbl&gt;</th><th scope=col>&lt;fct&gt;</th></tr>\n",
       "</thead>\n",
       "<tbody>\n",
       "\t<tr><th scope=row>1</th><td>5.1</td><td>3.5</td><td>1.4</td><td>0.2</td><td>setosa</td></tr>\n",
       "\t<tr><th scope=row>2</th><td>4.9</td><td>3.0</td><td>1.4</td><td>0.2</td><td>setosa</td></tr>\n",
       "\t<tr><th scope=row>3</th><td>4.7</td><td>3.2</td><td>1.3</td><td>0.2</td><td>setosa</td></tr>\n",
       "\t<tr><th scope=row>4</th><td>4.6</td><td>3.1</td><td>1.5</td><td>0.2</td><td>setosa</td></tr>\n",
       "\t<tr><th scope=row>5</th><td>5.0</td><td>3.6</td><td>1.4</td><td>0.2</td><td>setosa</td></tr>\n",
       "\t<tr><th scope=row>6</th><td>5.4</td><td>3.9</td><td>1.7</td><td>0.4</td><td>setosa</td></tr>\n",
       "</tbody>\n",
       "</table>\n"
      ],
      "text/latex": [
       "A data.frame: 6 × 5\n",
       "\\begin{tabular}{r|lllll}\n",
       "  & Sepal.Length & Sepal.Width & Petal.Length & Petal.Width & Species\\\\\n",
       "  & <dbl> & <dbl> & <dbl> & <dbl> & <fct>\\\\\n",
       "\\hline\n",
       "\t1 & 5.1 & 3.5 & 1.4 & 0.2 & setosa\\\\\n",
       "\t2 & 4.9 & 3.0 & 1.4 & 0.2 & setosa\\\\\n",
       "\t3 & 4.7 & 3.2 & 1.3 & 0.2 & setosa\\\\\n",
       "\t4 & 4.6 & 3.1 & 1.5 & 0.2 & setosa\\\\\n",
       "\t5 & 5.0 & 3.6 & 1.4 & 0.2 & setosa\\\\\n",
       "\t6 & 5.4 & 3.9 & 1.7 & 0.4 & setosa\\\\\n",
       "\\end{tabular}\n"
      ],
      "text/markdown": [
       "\n",
       "A data.frame: 6 × 5\n",
       "\n",
       "| <!--/--> | Sepal.Length &lt;dbl&gt; | Sepal.Width &lt;dbl&gt; | Petal.Length &lt;dbl&gt; | Petal.Width &lt;dbl&gt; | Species &lt;fct&gt; |\n",
       "|---|---|---|---|---|---|\n",
       "| 1 | 5.1 | 3.5 | 1.4 | 0.2 | setosa |\n",
       "| 2 | 4.9 | 3.0 | 1.4 | 0.2 | setosa |\n",
       "| 3 | 4.7 | 3.2 | 1.3 | 0.2 | setosa |\n",
       "| 4 | 4.6 | 3.1 | 1.5 | 0.2 | setosa |\n",
       "| 5 | 5.0 | 3.6 | 1.4 | 0.2 | setosa |\n",
       "| 6 | 5.4 | 3.9 | 1.7 | 0.4 | setosa |\n",
       "\n"
      ],
      "text/plain": [
       "  Sepal.Length Sepal.Width Petal.Length Petal.Width Species\n",
       "1 5.1          3.5         1.4          0.2         setosa \n",
       "2 4.9          3.0         1.4          0.2         setosa \n",
       "3 4.7          3.2         1.3          0.2         setosa \n",
       "4 4.6          3.1         1.5          0.2         setosa \n",
       "5 5.0          3.6         1.4          0.2         setosa \n",
       "6 5.4          3.9         1.7          0.4         setosa "
      ]
     },
     "metadata": {},
     "output_type": "display_data"
    },
    {
     "name": "stdout",
     "output_type": "stream",
     "text": [
      "'data.frame':\t150 obs. of  5 variables:\n",
      " $ Sepal.Length: num  5.1 4.9 4.7 4.6 5 5.4 4.6 5 4.4 4.9 ...\n",
      " $ Sepal.Width : num  3.5 3 3.2 3.1 3.6 3.9 3.4 3.4 2.9 3.1 ...\n",
      " $ Petal.Length: num  1.4 1.4 1.3 1.5 1.4 1.7 1.4 1.5 1.4 1.5 ...\n",
      " $ Petal.Width : num  0.2 0.2 0.2 0.2 0.2 0.4 0.3 0.2 0.2 0.1 ...\n",
      " $ Species     : Factor w/ 3 levels \"setosa\",\"versicolor\",..: 1 1 1 1 1 1 1 1 1 1 ...\n"
     ]
    },
    {
     "data": {
      "text/plain": [
       "  Sepal.Length    Sepal.Width     Petal.Length    Petal.Width   \n",
       " Min.   :4.300   Min.   :2.000   Min.   :1.000   Min.   :0.100  \n",
       " 1st Qu.:5.100   1st Qu.:2.800   1st Qu.:1.600   1st Qu.:0.300  \n",
       " Median :5.800   Median :3.000   Median :4.350   Median :1.300  \n",
       " Mean   :5.843   Mean   :3.057   Mean   :3.758   Mean   :1.199  \n",
       " 3rd Qu.:6.400   3rd Qu.:3.300   3rd Qu.:5.100   3rd Qu.:1.800  \n",
       " Max.   :7.900   Max.   :4.400   Max.   :6.900   Max.   :2.500  \n",
       "       Species  \n",
       " setosa    :50  \n",
       " versicolor:50  \n",
       " virginica :50  \n",
       "                \n",
       "                \n",
       "                "
      ]
     },
     "metadata": {},
     "output_type": "display_data"
    }
   ],
   "source": [
    "# Виведення перших рядків даних\n",
    "head(iris)\n",
    "\n",
    "# Перевірка структури набору даних\n",
    "str(iris)\n",
    "\n",
    "# Опис змінних у наборі даних\n",
    "summary(iris)"
   ]
  },
  {
   "cell_type": "markdown",
   "metadata": {},
   "source": [
    "9. Спроба іншої бібліотеки візуалізації за допомогою rpart (фаворит на сьогодні)\n"
   ]
  },
  {
   "cell_type": "code",
   "execution_count": 72,
   "metadata": {
    "vscode": {
     "languageId": "r"
    }
   },
   "outputs": [
    {
     "data": {
      "image/png": "[encoded data removed]",
      "text/plain": [
       "plot without title"
      ]
     },
     "metadata": {
      "image/png": {
       "height": 420,
       "width": 420
      }
     },
     "output_type": "display_data"
    }
   ],
   "source": [
    "# Побудова дерева за допомогою rpart\n",
    "model_rpart <- rpart(Species ~ Sepal.Length + Sepal.Width + Petal.Length + Petal.Width, data = iris, method = \"class\")\n",
    "\n",
    "# Візуалізація дерева\n",
    "rpart.plot(model_rpart, type = 4, extra = 101, under = TRUE, tweak = 1.2)\n"
   ]
  },
  {
   "cell_type": "markdown",
   "metadata": {},
   "source": [
    "10. Побудова для Native Speaker\n"
   ]
  },
  {
   "cell_type": "code",
   "execution_count": 73,
   "metadata": {
    "vscode": {
     "languageId": "r"
    }
   },
   "outputs": [
    {
     "data": {
      "image/png": "[encoded data removed]",
      "text/plain": [
       "plot without title"
      ]
     },
     "metadata": {
      "image/png": {
       "height": 420,
       "width": 420
      }
     },
     "output_type": "display_data"
    }
   ],
   "source": [
    "\n",
    "# Побудова дерева за допомогою rpart\n",
    "model_rpart_2 <- rpart(nativeSpeaker ~ age + shoeSize + score, \n",
    "                        data = readingSkills, \n",
    "                        method = \"class\", \n",
    "                        control = rpart.control(minsplit = 5, minbucket = 3, maxdepth = 3))\n",
    "\n",
    "# Візуалізація дерева\n",
    "rpart.plot(model_rpart_2, type = 4, extra = 101, under = TRUE, tweak = 1.2)"
   ]
  },
  {
   "cell_type": "markdown",
   "metadata": {},
   "source": [
    "11. Інший метод візуалізації (ggparty)\n"
   ]
  },
  {
   "cell_type": "code",
   "execution_count": 74,
   "metadata": {
    "vscode": {
     "languageId": "r"
    }
   },
   "outputs": [
    {
     "data": {
      "image/png": "[encoded data removed]",
      "text/plain": [
       "plot without title"
      ]
     },
     "metadata": {
      "image/png": {
       "height": 420,
       "width": 420
      }
     },
     "output_type": "display_data"
    }
   ],
   "source": [
    "# Створюємо дерево\n",
    "model_rpart <- rpart(nativeSpeaker ~ age + shoeSize + score, \n",
    "                     data = readingSkills, \n",
    "                     control = rpart.control(minsplit = 5, minbucket = 3, maxdepth = 3))\n",
    "\n",
    "# Конвертуємо у partykit\n",
    "model_party <- as.party(model_rpart)\n",
    "\n",
    "ggparty(model_party) +\n",
    "  geom_edge() +\n",
    "  geom_edge_label() +\n",
    "  geom_node_label(aes(label = splitvar), ids = \"inner\") +\n",
    "  geom_node_label(aes(label = info), ids = \"terminal\")\n"
   ]
  }
 ],
 "metadata": {
  "kernelspec": {
   "display_name": "R",
   "language": "R",
   "name": "ir"
  },
  "language_info": {
   "codemirror_mode": "r",
   "file_extension": ".r",
   "mimetype": "text/x-r-source",
   "name": "R",
   "pygments_lexer": "r",
   "version": "4.4.1"
  }
 },
 "nbformat": 4,
 "nbformat_minor": 2
}
