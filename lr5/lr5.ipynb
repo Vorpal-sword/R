{
 "cells": [
  {
   "cell_type": "markdown",
   "metadata": {},
   "source": [
    "1. Завантаження бібліотек та даних\n"
   ]
  },
  {
   "cell_type": "code",
   "execution_count": 76,
   "metadata": {
    "vscode": {
     "languageId": "r"
    }
   },
   "outputs": [
    {
     "name": "stdout",
     "output_type": "stream",
     "text": [
      "'data.frame':\t143 obs. of  11 variables:\n",
      " $ Country.name                              : chr  \"Finland\" \"Denmark\" \"Iceland\" \"Sweden\" ...\n",
      " $ Ladder_score                              : num  7.74 7.58 7.53 7.34 7.34 ...\n",
      " $ upperwhisker                              : num  7.82 7.66 7.62 7.42 7.41 ...\n",
      " $ lowerwhisker                              : num  7.67 7.5 7.43 7.27 7.28 ...\n",
      " $ Log_GDP_per_capita                        : num  1.84 1.91 1.88 1.88 1.8 ...\n",
      " $ Explained.by..Social.support              : num  1.57 1.52 1.62 1.5 1.51 ...\n",
      " $ Explained.by..Healthy.life.expectancy     : num  0.695 0.699 0.718 0.724 0.74 0.706 0.704 0.708 0.747 0.692 ...\n",
      " $ Explained.by..Freedom.to.make.life.choices: num  0.859 0.823 0.819 0.838 0.641 0.725 0.835 0.801 0.759 0.756 ...\n",
      " $ Explained.by..Generosity                  : num  0.142 0.204 0.258 0.221 0.153 0.247 0.224 0.146 0.173 0.225 ...\n",
      " $ Explained.by..Perceptions.of.corruption   : num  0.546 0.548 0.182 0.524 0.193 0.372 0.484 0.432 0.498 0.323 ...\n",
      " $ Dystopia...residual                       : num  2.08 1.88 2.05 1.66 2.3 ...\n"
     ]
    },
    {
     "data": {
      "text/plain": [
       " Country.name        Ladder_score    upperwhisker    lowerwhisker  \n",
       " Length:143         Min.   :1.721   Min.   :1.775   Min.   :1.667  \n",
       " Class :character   1st Qu.:4.726   1st Qu.:4.846   1st Qu.:4.606  \n",
       " Mode  :character   Median :5.785   Median :5.895   Median :5.674  \n",
       "                    Mean   :5.528   Mean   :5.641   Mean   :5.414  \n",
       "                    3rd Qu.:6.416   3rd Qu.:6.508   3rd Qu.:6.319  \n",
       "                    Max.   :7.741   Max.   :7.815   Max.   :7.667  \n",
       "                                                                   \n",
       " Log_GDP_per_capita Explained.by..Social.support\n",
       " Min.   :0.000      Min.   :0.0000              \n",
       " 1st Qu.:1.078      1st Qu.:0.9217              \n",
       " Median :1.431      Median :1.2375              \n",
       " Mean   :1.379      Mean   :1.1343              \n",
       " 3rd Qu.:1.742      3rd Qu.:1.3833              \n",
       " Max.   :2.141      Max.   :1.6170              \n",
       " NA's   :3          NA's   :3                   \n",
       " Explained.by..Healthy.life.expectancy\n",
       " Min.   :0.0000                       \n",
       " 1st Qu.:0.3980                       \n",
       " Median :0.5495                       \n",
       " Mean   :0.5209                       \n",
       " 3rd Qu.:0.6485                       \n",
       " Max.   :0.8570                       \n",
       " NA's   :3                            \n",
       " Explained.by..Freedom.to.make.life.choices Explained.by..Generosity\n",
       " Min.   :0.0000                             Min.   :0.0000          \n",
       " 1st Qu.:0.5275                             1st Qu.:0.0910          \n",
       " Median :0.6410                             Median :0.1365          \n",
       " Mean   :0.6206                             Mean   :0.1463          \n",
       " 3rd Qu.:0.7360                             3rd Qu.:0.1925          \n",
       " Max.   :0.8630                             Max.   :0.4010          \n",
       " NA's   :3                                  NA's   :3               \n",
       " Explained.by..Perceptions.of.corruption Dystopia...residual\n",
       " Min.   :0.00000                         Min.   :-0.073     \n",
       " 1st Qu.:0.06875                         1st Qu.: 1.308     \n",
       " Median :0.12050                         Median : 1.645     \n",
       " Mean   :0.15412                         Mean   : 1.576     \n",
       " 3rd Qu.:0.19375                         3rd Qu.: 1.882     \n",
       " Max.   :0.57500                         Max.   : 2.998     \n",
       " NA's   :3                               NA's   :3          "
      ]
     },
     "metadata": {},
     "output_type": "display_data"
    }
   ],
   "source": [
    "library(ggplot2)\n",
    "library(dplyr)\n",
    "\n",
    "# Завантаження CSV-файлу\n",
    "df <- read.csv(\"data1.csv\", sep=\";\", stringsAsFactors=FALSE)\n",
    "\n",
    "# Перетворення числових значень для всіх колонок, крім 'Country.name'\n",
    "df <- df %>%\n",
    "  mutate(across(.cols = -Country.name,  # Виключаємо 'Country.name'\n",
    "                .fns = ~ as.numeric(gsub(\",\", \".\", .)), \n",
    "                .names = \"{.col}\"))\n",
    "\n",
    "# Перевірка структури даних\n",
    "str(df)\n",
    "summary(df)\n"
   ]
  },
  {
   "cell_type": "markdown",
   "metadata": {},
   "source": [
    "2. Візуалізація зв'язку між змінними\n"
   ]
  },
  {
   "cell_type": "code",
   "execution_count": 77,
   "metadata": {
    "vscode": {
     "languageId": "r"
    }
   },
   "outputs": [
    {
     "name": "stderr",
     "output_type": "stream",
     "text": [
      "\u001b[1m\u001b[22m`geom_smooth()` using formula = 'y ~ x'\n",
      "Warning message:\n",
      "\"\u001b[1m\u001b[22mRemoved 3 rows containing non-finite outside the scale range (`stat_smooth()`).\"\n",
      "Warning message:\n",
      "\"\u001b[1m\u001b[22mRemoved 3 rows containing missing values or values outside the scale range\n",
      "(`geom_point()`).\"\n"
     ]
    },
    {
     "data": {
      "image/png": "[encoded data removed]",
      "text/plain": [
       "plot without title"
      ]
     },
     "metadata": {
      "image/png": {
       "height": 420,
       "width": 420
      }
     },
     "output_type": "display_data"
    }
   ],
   "source": [
    "ggplot(df, aes(x = Log_GDP_per_capita, y = Ladder_score)) +\n",
    "  geom_point() +\n",
    "  geom_smooth(method = \"lm\", col = \"red\") +\n",
    "  labs(title = \"Залежність Ladder score від Log GDP per capita\")\n"
   ]
  },
  {
   "cell_type": "markdown",
   "metadata": {},
   "source": [
    "3. Побудова простої лінійної регресії\n"
   ]
  },
  {
   "cell_type": "code",
   "execution_count": 78,
   "metadata": {
    "vscode": {
     "languageId": "r"
    }
   },
   "outputs": [
    {
     "data": {
      "text/plain": [
       "\n",
       "Call:\n",
       "lm(formula = Ladder_score ~ Log_GDP_per_capita, data = df)\n",
       "\n",
       "Residuals:\n",
       "     Min       1Q   Median       3Q      Max \n",
       "-2.82003 -0.37094  0.05679  0.40998  3.02053 \n",
       "\n",
       "Coefficients:\n",
       "                   Estimate Std. Error t value Pr(>|t|)    \n",
       "(Intercept)          2.5865     0.2183   11.85   <2e-16 ***\n",
       "Log_GDP_per_capita   2.1355     0.1514   14.11   <2e-16 ***\n",
       "---\n",
       "Signif. codes:  0 '***' 0.001 '**' 0.01 '*' 0.05 '.' 0.1 ' ' 1\n",
       "\n",
       "Residual standard error: 0.7585 on 138 degrees of freedom\n",
       "  (3 observations deleted due to missingness)\n",
       "Multiple R-squared:  0.5906,\tAdjusted R-squared:  0.5876 \n",
       "F-statistic: 199.1 on 1 and 138 DF,  p-value: < 2.2e-16\n"
      ]
     },
     "metadata": {},
     "output_type": "display_data"
    }
   ],
   "source": [
    "# If needed, after renaming\n",
    "model <- lm(Ladder_score ~ Log_GDP_per_capita, data = df)\n",
    "summary(model)\n"
   ]
  },
  {
   "cell_type": "markdown",
   "metadata": {},
   "source": [
    "4. Перевірка діагностичних графіків\n"
   ]
  },
  {
   "cell_type": "code",
   "execution_count": 79,
   "metadata": {
    "vscode": {
     "languageId": "r"
    }
   },
   "outputs": [
    {
     "data": {
      "image/png": "[encoded data removed]",
      "text/plain": [
       "Plot with title \"\""
      ]
     },
     "metadata": {
      "image/png": {
       "height": 420,
       "width": 420
      }
     },
     "output_type": "display_data"
    }
   ],
   "source": [
    "par(mfrow=c(2,2))\n",
    "plot(model)"
   ]
  },
  {
   "cell_type": "markdown",
   "metadata": {},
   "source": [
    "5. Прогнозування\n"
   ]
  },
  {
   "cell_type": "code",
   "execution_count": 85,
   "metadata": {
    "vscode": {
     "languageId": "r"
    }
   },
   "outputs": [
    {
     "name": "stdout",
     "output_type": "stream",
     "text": [
      "       1        2        3 \n",
      "7.925187 2.800015 8.992931 \n"
     ]
    }
   ],
   "source": [
    "new_data <- data.frame(`Log_GDP_per_capita` = c(2.5, 0.1, 3))\n",
    "predictions <- predict(model, new_data)\n",
    "print(predictions)"
   ]
  },
  {
   "cell_type": "markdown",
   "metadata": {},
   "source": [
    "6. Обчислення відстані Кука\n"
   ]
  },
  {
   "cell_type": "code",
   "execution_count": 82,
   "metadata": {
    "vscode": {
     "languageId": "r"
    }
   },
   "outputs": [
    {
     "data": {
      "image/png": "[encoded data removed]",
      "text/plain": [
       "Plot with title \"Відстань Кука для кожного спостереження\""
      ]
     },
     "metadata": {
      "image/png": {
       "height": 420,
       "width": 420
      }
     },
     "output_type": "display_data"
    }
   ],
   "source": [
    "# Обчислення відстані Кука\n",
    "cooks_dist <- cooks.distance(model)\n",
    "\n",
    "# Візуалізація відстаней Кука\n",
    "plot(cooks_dist, type=\"h\", main=\"Відстань Кука для кожного спостереження\", ylab=\"Cook's Distance\")\n",
    "abline(h = 4/(nrow(df)), col=\"red\", lty=2)  # Граничне значення\n"
   ]
  },
  {
   "cell_type": "markdown",
   "metadata": {},
   "source": [
    "7. Ідентифікація впливних точок\n"
   ]
  },
  {
   "cell_type": "code",
   "execution_count": 84,
   "metadata": {
    "vscode": {
     "languageId": "r"
    }
   },
   "outputs": [
    {
     "data": {
      "text/plain": [
       "\n",
       "Call:\n",
       "lm(formula = Ladder_score ~ Log_GDP_per_capita, data = df_cleaned)\n",
       "\n",
       "Residuals:\n",
       "     Min       1Q   Median       3Q      Max \n",
       "-2.83723 -0.36772  0.06945  0.43534  2.92054 \n",
       "\n",
       "Coefficients:\n",
       "                   Estimate Std. Error t value Pr(>|t|)    \n",
       "(Intercept)          2.6865     0.2287   11.75   <2e-16 ***\n",
       "Log_GDP_per_capita   2.0754     0.1571   13.21   <2e-16 ***\n",
       "---\n",
       "Signif. codes:  0 '***' 0.001 '**' 0.01 '*' 0.05 '.' 0.1 ' ' 1\n",
       "\n",
       "Residual standard error: 0.7635 on 133 degrees of freedom\n",
       "  (2 observations deleted due to missingness)\n",
       "Multiple R-squared:  0.5674,\tAdjusted R-squared:  0.5641 \n",
       "F-statistic: 174.4 on 1 and 133 DF,  p-value: < 2.2e-16\n"
      ]
     },
     "metadata": {},
     "output_type": "display_data"
    }
   ],
   "source": [
    "# Порогове значення\n",
    "threshold <- 4 / nrow(df)\n",
    "\n",
    "# Обчислення Cook's distance для первинної моделі\n",
    "# (припускаємо, що модель була навчена за цими змінними)\n",
    "model <- lm(Ladder_score ~ Log_GDP_per_capita, data = df)\n",
    "cooks_dist <- cooks.distance(model)\n",
    "\n",
    "# Визначення впливних точок\n",
    "influential_points <- which(cooks_dist > threshold)\n",
    "\n",
    "# Видалення впливних точок\n",
    "df_cleaned <- df[-influential_points, ]\n",
    "\n",
    "# Повторне навчання моделі на очищених даних\n",
    "model_cleaned <- lm(Ladder_score ~ Log_GDP_per_capita, data = df_cleaned)\n",
    "summary(model_cleaned)\n"
   ]
  }
 ],
 "metadata": {
  "kernelspec": {
   "display_name": "R",
   "language": "R",
   "name": "ir"
  },
  "language_info": {
   "codemirror_mode": "r",
   "file_extension": ".r",
   "mimetype": "text/x-r-source",
   "name": "R",
   "pygments_lexer": "r",
   "version": "4.4.1"
  }
 },
 "nbformat": 4,
 "nbformat_minor": 2
}
